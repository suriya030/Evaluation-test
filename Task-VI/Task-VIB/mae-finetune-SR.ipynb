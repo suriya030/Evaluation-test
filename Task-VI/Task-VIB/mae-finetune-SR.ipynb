{
 "cells": [
  {
   "cell_type": "markdown",
   "metadata": {},
   "source": [
    "#### **0. References**\n",
    "\n",
    "\n",
    "\n",
    "1. **ChatGPT**: acting as the masked autoencoder for my masked understanding.\n"
   ]
  },
  {
   "cell_type": "markdown",
   "metadata": {},
   "source": [
    "#### **1. Libraries**"
   ]
  },
  {
   "cell_type": "code",
   "execution_count": 485,
   "metadata": {},
   "outputs": [],
   "source": [
    "# Standard Library Imports\n",
    "import sys\n",
    "import os\n",
    "import random\n",
    "import pathlib\n",
    "import time\n",
    "import copy\n",
    "from collections import Counter\n",
    "\n",
    "# Third-Party Imports\n",
    "import torch\n",
    "import torch.nn as nn\n",
    "import torch.nn.functional as F\n",
    "from torch.optim import Adam\n",
    "from torch.optim.lr_scheduler import StepLR\n",
    "from torch.utils.data import DataLoader, Dataset\n",
    "import numpy as np\n",
    "from sklearn.metrics import roc_curve, auc, confusion_matrix\n",
    "import matplotlib.pyplot as plt\n",
    "from tqdm import tqdm\n",
    "import seaborn as sns\n",
    "from skimage.transform import resize\n",
    "from skimage.metrics import peak_signal_noise_ratio as compare_psnr\n",
    "from skimage.metrics import structural_similarity as compare_ssim\n",
    "from sklearn.metrics import mean_squared_error\n"
   ]
  },
  {
   "cell_type": "code",
   "execution_count": 486,
   "metadata": {},
   "outputs": [
    {
     "name": "stdout",
     "output_type": "stream",
     "text": [
      "NVIDIA GeForce RTX 4070 Ti SUPER, 16376 MiB\n",
      "python version :  3.12.8 | packaged by conda-forge | (main, Dec  5 2024, 14:06:27) [MSC v.1942 64 bit (AMD64)]\n",
      "torch version  :  2.5.1+cu121\n"
     ]
    }
   ],
   "source": [
    "## GPU check and version check ##\n",
    "!nvidia-smi --query-gpu=name,memory.total --format=csv,noheader\n",
    "print( 'python version : ',sys.version) \n",
    "print( 'torch version  : ',torch.__version__)\n",
    "device = 'cuda' if torch.cuda.is_available() else 'cpu'"
   ]
  },
  {
   "cell_type": "markdown",
   "metadata": {},
   "source": [
    "#### **2. General utils**"
   ]
  },
  {
   "cell_type": "code",
   "execution_count": null,
   "metadata": {},
   "outputs": [],
   "source": [
    "## Utility Functions ##\n",
    "def set_seed(seed):\n",
    "    os.environ['CUBLAS_WORKSPACE_CONFIG'] = ':4096:8'\n",
    "    torch.manual_seed(seed)\n",
    "    torch.cuda.manual_seed_all(seed)\n",
    "    torch.backends.cudnn.deterministic = True # only applies to CUDA convolutional operation.\n",
    "    torch.backends.cudnn.benchmark = False\n",
    "    np.random.seed(seed)\n",
    "    random.seed(seed)\n",
    "    os.environ['PYTHONHASHSEED'] = str(seed)\n",
    "    torch.use_deterministic_algorithms(True,warn_only=False)\n",
    "\n",
    "def mean_std(train_dataset, device):\n",
    "    train_dataloader = DataLoader(train_dataset, batch_size=4096, shuffle=False)\n",
    "    train_data = []\n",
    "\n",
    "    for lr_image_batch,_ in tqdm(train_dataloader):\n",
    "        lr_image_batch = lr_image_batch.to(device)\n",
    "        train_data.append(lr_image_batch)\n",
    "    \n",
    "    train_data = torch.cat(train_data, dim=0)\n",
    "    mean = train_data.mean()\n",
    "    std = train_data.std()\n",
    "\n",
    "    return mean, std\n",
    "\n",
    "def visualize_random_pairs_side_by_side(dataset, num_pairs=3):\n",
    "    \"\"\"\n",
    "    Display 'num_pairs' randomly chosen LR-HR pairs side by side in a smaller,\n",
    "    high-quality figure. Resizes the LR images to match the HR dimensions so\n",
    "    both can be directly compared in one frame.\n",
    "    \n",
    "    Args:\n",
    "        dataset (Dataset): An instance of CustomDataset (or any dataset returning (LR, HR) pairs).\n",
    "        num_pairs (int): Number of random LR-HR pairs to visualize.\n",
    "    \"\"\"\n",
    "    # Randomly pick indices\n",
    "    indices = random.sample(range(len(dataset)), num_pairs)\n",
    "    \n",
    "    for i, idx in enumerate(indices, start=1):\n",
    "        lr_img, hr_img = dataset[idx]\n",
    "        \n",
    "        # Convert tensors to NumPy arrays\n",
    "        lr_np = lr_img.squeeze().detach().cpu().numpy()\n",
    "        hr_np = hr_img.squeeze().detach().cpu().numpy()\n",
    "        \n",
    "        # Resize LR to match HR shape for side-by-side display\n",
    "        lr_resized = resize(lr_np, hr_np.shape, anti_aliasing=True)\n",
    "        \n",
    "        # Concatenate horizontally\n",
    "        # The resulting image has shape: (height, width_LR + width_HR)\n",
    "        side_by_side = np.hstack((lr_resized, hr_np))\n",
    "        \n",
    "        # Show the combined image\n",
    "        plt.figure(figsize=(8, 4), dpi=150)  # Smaller figure with higher DPI\n",
    "        plt.imshow(side_by_side, cmap='gray')  # Display as grayscale\n",
    "        plt.title(f\"Pair #{i}: LR (left) | HR (right)\")\n",
    "        plt.axis('off')\n",
    "        plt.show()"
   ]
  },
  {
   "cell_type": "markdown",
   "metadata": {},
   "source": [
    "#### **3. Dataset utils**"
   ]
  },
  {
   "cell_type": "code",
   "execution_count": 17,
   "metadata": {},
   "outputs": [],
   "source": [
    "class CustomDataset(Dataset): # inherits from torch.utils.data.Dataset class\n",
    "    def __init__(self, target_dir, transform=None):\n",
    "        self.target_dir = target_dir\n",
    "        lr_images_path = os.path.join(target_dir, 'LR')    \n",
    "        self.paths = [os.path.join(lr_images_path, file) for file in os.listdir(lr_images_path) if file.endswith('.npy')]\n",
    "        # get all paths of low-resolution images in the target directory\n",
    "        self.transform = transform\n",
    "    \n",
    "    def __len__(self):\n",
    "        return len(self.paths)\n",
    "    \n",
    "    def __getitem__(self, index):\n",
    "        lr_img_path = self.paths[index]\n",
    "        filename = os.path.basename(lr_img_path)\n",
    "\n",
    "        lr_img = np.load(lr_img_path) # (1,75,75)      \n",
    "        lr_img = torch.tensor(lr_img, dtype=torch.float32)\n",
    "\n",
    "        hr_img_path = os.path.join(self.target_dir, 'HR', filename)\n",
    "        hr_img = np.load(hr_img_path) # (1,150,150)\n",
    "        hr_img = torch.tensor(hr_img, dtype=torch.float32)\n",
    "        \n",
    "\n",
    "        if self.transform:\n",
    "            lr_img = self.transform(lr_img)\n",
    "        \n",
    "        return lr_img, hr_img # (1,75,75), (1,150,150)  "
   ]
  },
  {
   "cell_type": "markdown",
   "metadata": {},
   "source": [
    "#### **4. Training utils** "
   ]
  },
  {
   "cell_type": "code",
   "execution_count": null,
   "metadata": {},
   "outputs": [],
   "source": [
    "class Trainer:\n",
    "    def __init__(self, model, device, HP ):\n",
    "        self.model = model\n",
    "        self.device =device\n",
    "        self.epochs = HP['num_epochs']\n",
    "        self.batch_size = HP['batch_size']\n",
    "        self.lr = HP['lr']\n",
    "        self.weight_decay = HP['weight_decay']\n",
    "    \n",
    "    def model_train(self, train_loader, val_loader):\n",
    "\n",
    "        criteria = nn.MSELoss()\n",
    "        optimizer = Adam(self.model.parameters(), lr=self.lr, weight_decay=self.weight_decay)\n",
    "        scheduler = StepLR(optimizer, step_size=10, gamma=0.1) # every 10 epochs, lr = lr * 0.1\n",
    "\n",
    "        for epoch in range(self.epochs):\n",
    "            self.model.train() \n",
    "\n",
    "            running_loss = 0.0  \n",
    "            total_batches = 0 \n",
    "\n",
    "            for lr_img,hr_img in train_loader:\n",
    "                lr_img = lr_img.to(self.device)\n",
    "                hr_img = hr_img.to(self.device)\n",
    "\n",
    "                optimizer.zero_grad()\n",
    "                sr_img = self.model(lr_img)\n",
    "                loss = criteria(sr_img, hr_img)\n",
    "\n",
    "                loss.backward()\n",
    "                optimizer.step()\n",
    "\n",
    "                running_loss += loss.item()\n",
    "                total_batches += 1\n",
    "            \n",
    "            # step the scheduler    \n",
    "            scheduler.step()\n",
    "\n",
    "            # calculate the average loss for the epoch  \n",
    "            epoch_loss = running_loss/total_batches \n",
    "\n",
    "            print(f\"Epoch [{epoch+1}/{self.epochs}], Loss: {epoch_loss:.8f}\")\n",
    "\n",
    "    print( \"Training complete.\")    \n",
    "\n",
    "    def eval_model(model, test_loader, device):\n",
    "        model = model.to(device)  \n",
    "        model.eval() \n",
    "        with torch.no_grad():  \n",
    "            total_psnr = 0.0\n",
    "            total_ssim = 0.0\n",
    "            total_mse = 0.0\n",
    "            total_images = 0\n",
    "            \n",
    "            for lr,hr in test_loader:\n",
    "                lr, hr\n",
    "                sr = model(lr)\n",
    "                \n",
    "                sr_np = sr.cpu().numpy()\n",
    "                hr_np = hr.cpu().numpy()\n",
    "                \n",
    "                batch_size = sr_np.shape[0]\n",
    "                total_images += batch_size\n",
    "                \n",
    "                for i in range(batch_size):\n",
    "                    \n",
    "                    sr_img = sr_np[i].squeeze()  \n",
    "                    hr_img = hr_np[i].squeeze()\n",
    "                    \n",
    "                    psnr = compare_psnr(hr_img, sr_img, data_range=hr_img.max() - hr_img.min())\n",
    "                    ssim = compare_ssim(hr_img, sr_img, data_range=hr_img.max() - hr_img.min())\n",
    "                    mse = mean_squared_error(hr_img, sr_img)\n",
    "                    \n",
    "                    total_psnr += psnr\n",
    "                    total_ssim += ssim\n",
    "                    total_mse += mse\n",
    "            \n",
    "            # Calculate average PSNR, SSIM, and MSE\n",
    "            avg_psnr = total_psnr / total_images\n",
    "            avg_ssim = total_ssim / total_images\n",
    "            avg_mse = total_mse / total_images\n",
    "            \n",
    "            print(f'Average PSNR: {avg_psnr:.4f}, Average SSIM: {avg_ssim:.4f}, Average MSE: {avg_mse:.4f}')"
   ]
  },
  {
   "cell_type": "markdown",
   "metadata": {},
   "source": [
    "#### **5. Finetuning pre-trained MAE for SISR**"
   ]
  },
  {
   "cell_type": "markdown",
   "metadata": {},
   "source": [
    "##### *5.1 Config*"
   ]
  },
  {
   "cell_type": "code",
   "execution_count": 13,
   "metadata": {},
   "outputs": [],
   "source": [
    "## TO-CHANGE CELL ##\n",
    "HP={\n",
    "'seed': 100, \n",
    "'lr': 1e-4,\n",
    "'batch_size': 256,\n",
    "'num_epochs':40,\n",
    "'weight_decay': 0\n",
    "}\n",
    "\n",
    "data_dir = r'dataset'\n",
    "model_path = r'saved_models\\best_model_60epochs_zscore.pth'\n",
    "## TO-CHANGE CELL ##\n"
   ]
  },
  {
   "cell_type": "markdown",
   "metadata": {},
   "source": [
    "##### *5.2 Data loading and visualisation*"
   ]
  },
  {
   "cell_type": "markdown",
   "metadata": {},
   "source": [
    "The dataset consists of simulated strong lensing images without substructure, available at two different resolutions:\n",
    "\n",
    "- **High-Resolution (HR):** 10,000 images stored as NumPy arrays of shape `(1, 150, 150)`, with pixel values in the range `[0, 1]` .\n",
    "- **Low-Resolution (LR):** 10,000 images stored as NumPy arrays of shape `(1, 75, 75)`, with pixel values somewhat in between 0 and 1, but sometimes slightly greater than 1. ( Probably the LR image is obtained from the HR image after using some statistical image resecaling techniques)\n",
    "\n",
    "For our purposes, the dataset was randomly split into training, validation, and test sets in an **80:10:10** ratio. \n",
    "\n",
    "The final performance of the model was evaluated on the test set using the following metrics:  \n",
    "**Mean Squared Error (MSE)**, **Peak Signal-to-Noise Ratio (PSNR)**, and **Structural Similarity Index (SSIM)**.\n"
   ]
  },
  {
   "cell_type": "code",
   "execution_count": 479,
   "metadata": {},
   "outputs": [
    {
     "name": "stdout",
     "output_type": "stream",
     "text": [
      "Training set size   : 8000\n",
      "Validation set size : 1000\n",
      "Testing set size    : 1000\n"
     ]
    }
   ],
   "source": [
    "## S1 : DATA LOADING ##\n",
    "\n",
    "set_seed(HP['seed'])\n",
    "dataset = CustomDataset(data_dir)\n",
    "\n",
    "from torch.utils.data import random_split  \n",
    "\n",
    "# Define split sizes\n",
    "train_size = int(0.8 * len(dataset))  # 80% for training\n",
    "val_size = int(0.1* len(dataset))   # 10% for validation\n",
    "test_size = len(dataset) - train_size - val_size  # 10% for testing \n",
    "\n",
    "# Perform two-step random splitting\n",
    "train_dataset, temp_dataset = random_split(dataset, [train_size, val_size + test_size])\n",
    "val_dataset, test_dataset = random_split(temp_dataset, [val_size, test_size])\n",
    "\n",
    "# Check the sizes of the splits \n",
    "print(f\"Training set size   : {len(train_dataset)}\")   \n",
    "print(f\"Validation set size : {len(val_dataset)}\")\n",
    "print(f\"Testing set size    : {len(test_dataset)}\")\n",
    "\n"
   ]
  },
  {
   "cell_type": "code",
   "execution_count": 482,
   "metadata": {},
   "outputs": [
    {
     "data": {
      "image/png": "[encoded data removed]",
      "text/plain": [
       "<Figure size 1200x600 with 1 Axes>"
      ]
     },
     "metadata": {},
     "output_type": "display_data"
    }
   ],
   "source": [
    "visualize_random_pairs_side_by_side(dataset, num_pairs=1) # visualize random pairs of LR-HR images "
   ]
  },
  {
   "cell_type": "code",
   "execution_count": 476,
   "metadata": {},
   "outputs": [
    {
     "name": "stdout",
     "output_type": "stream",
     "text": [
      "lr_image mean :  0.06133488  std :  0.104547575  min :  0.0017995932  max :  0.95373034\n",
      "hr_image mean :  0.06133488  std :  0.10457513  min :  0.0  max :  1.0\n"
     ]
    }
   ],
   "source": [
    "# Check the mean, std, min, max of any random LR-HR image pair  \n",
    "random_num = random.randint(0, len(dataset)-1)\n",
    "lr_image, hr_image = dataset[random_num]\n",
    "lr_image = lr_image.squeeze().detach().cpu().numpy()\n",
    "hr_image = hr_image.squeeze().detach().cpu().numpy()\n",
    "print( 'lr_image mean : ',lr_image.mean(),' std : ',lr_image.std(),' min : ',lr_image.min(),' max : ',lr_image.max())\n",
    "print( 'hr_image mean : ',hr_image.mean(),' std : ',hr_image.std(),' min : ',hr_image.min(),' max : ',hr_image.max())   \n",
    "\n",
    "    "
   ]
  },
  {
   "cell_type": "code",
   "execution_count": null,
   "metadata": {},
   "outputs": [
    {
     "name": "stdout",
     "output_type": "stream",
     "text": [
      "train_loader length :  32\n",
      "val_loader length :  4\n",
      "test_loader length :  4\n"
     ]
    }
   ],
   "source": [
    "# Create data loaders   \n",
    "from torch.utils.data import DataLoader \n",
    "\n",
    "train_loader = DataLoader(train_dataset, batch_size=HP['batch_size'], shuffle=True)\n",
    "val_loader = DataLoader(val_dataset, batch_size=HP['batch_size'], shuffle=False)\n",
    "test_loader = DataLoader(test_dataset, batch_size=HP['batch_size'], shuffle=False)     "
   ]
  },
  {
   "cell_type": "markdown",
   "metadata": {},
   "source": [
    "##### *5.3 Model Definition*"
   ]
  },
  {
   "cell_type": "code",
   "execution_count": null,
   "metadata": {},
   "outputs": [],
   "source": [
    "## S2 : MODEL DEFINING ##\n",
    "\n",
    "class MAE_encoder(nn.Module):\n",
    "    def __init__(self, pretrained_model):\n",
    "        super(MAE_encoder, self).__init__()\n",
    "        self.encoder = pretrained_model.encoder \n",
    "        self.patch_embed = self.encoder.patch_embed \n",
    "        self.patchify = self.encoder.patchify   \n",
    "        self.cls_token = self.encoder.cls_token \n",
    "        self.pos_embed = self.encoder.pos_embed \n",
    "        self.blocks = self.encoder.blocks\n",
    "        self.layer_norm = self.encoder.norm\n",
    "\n",
    "        self.avg_pool = nn.AdaptiveAvgPool1d(1)\n",
    "        self.classifier = nn.Sequential(\n",
    "            nn.Linear(64, 3)\n",
    "        )\n",
    "        \n",
    "        self.init_weights()\n",
    "    def init_weights(self):\n",
    "        for m in self.classifier:\n",
    "            if isinstance(m, nn.Linear):\n",
    "                nn.init.xavier_normal_(m.weight)\n",
    "                nn.init.zeros_(m.bias)\n",
    "\n",
    "    def forward(self, x):\n",
    "        # x (B,1,64,64) <=? (B,C,H,W)\n",
    "    \n",
    "        x = self.patch_embed(x) # (B, 64, 128) <=> (B, seq_len, d_model) \n",
    "        x = x + self.pos_embed[:,1:,:]  # (B, 64, 128)\n",
    "\n",
    "        # appending cls token to the input\n",
    "        cls_token = self.cls_token + self.pos_embed[:,0:1,:] # (1, 1, 128)\n",
    "        cls_tokens = cls_token.expand(x.shape[0], -1, -1) # (B, 1, 128)\n",
    "        x = torch.cat((cls_tokens, x), dim=1) # (B, 65, 128)\n",
    "\n",
    "        # apply Transformer blocks\n",
    "        for blk in self.blocks:\n",
    "            x = blk(x)\n",
    "        \n",
    "        x = self.layer_norm(x) # (B, 65, 128)\n",
    "        \n",
    "        x = x[:,1:,:] # (B, 64, 128) <=> (B, seq_len, d_model)  \n",
    "        x = self.avg_pool(x) # (B, 64, 1)\n",
    "        x = x.squeeze(-1) # (B, 64)\n",
    "        output = self.classifier(x) # (B, 3)\n",
    "\n",
    "        return output   \n",
    "   \n"
   ]
  },
  {
   "cell_type": "markdown",
   "metadata": {},
   "source": [
    "##### *5.4 Training*"
   ]
  },
  {
   "cell_type": "code",
   "execution_count": null,
   "metadata": {},
   "outputs": [],
   "source": [
    "set_seed(HP['seed'])    \n",
    "\n",
    "pretrained_model = torch.load(model_path) \n",
    "model = MAE_encoder(pretrained_model).to( device )\n",
    "print( 'Trainable parameters :', sum(p.numel() for p in model.parameters() if p.requires_grad) )\n",
    "\n",
    "trainer = Trainer(model,device, HP)\n",
    "trainer.model_train(train_loader, val_loader)   \n"
   ]
  },
  {
   "cell_type": "markdown",
   "metadata": {},
   "source": [
    "##### *5.4 Inference*"
   ]
  },
  {
   "cell_type": "markdown",
   "metadata": {},
   "source": []
  }
 ],
 "metadata": {
  "kernelspec": {
   "display_name": "TCCT",
   "language": "python",
   "name": "python3"
  },
  "language_info": {
   "codemirror_mode": {
    "name": "ipython",
    "version": 3
   },
   "file_extension": ".py",
   "mimetype": "text/x-python",
   "name": "python",
   "nbconvert_exporter": "python",
   "pygments_lexer": "ipython3",
   "version": "3.12.8"
  }
 },
 "nbformat": 4,
 "nbformat_minor": 2
}
